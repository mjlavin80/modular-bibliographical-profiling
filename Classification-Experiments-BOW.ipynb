{
 "cells": [
  {
   "cell_type": "code",
   "execution_count": 9,
   "id": "c398d55d",
   "metadata": {},
   "outputs": [],
   "source": [
    "import math, ast\n",
    "import pandas as pd \n",
    "import numpy as np\n",
    "from collections import Counter\n",
    "from nltk.corpus import stopwords\n",
    "from sklearn.feature_extraction import DictVectorizer\n",
    "from sklearn.linear_model import LogisticRegression\n",
    "from sklearn.metrics import precision_recall_curve\n",
    "import matplotlib as mpl\n",
    "import matplotlib.pyplot as plt\n",
    "import seaborn as sns\n",
    "from utilities import text_functions as tf\n",
    "from utilities import scikit_functions as sf"
   ]
  },
  {
   "cell_type": "code",
   "execution_count": 10,
   "id": "2793f73a",
   "metadata": {},
   "outputs": [
    {
     "data": {
      "text/html": [
       "<div>\n",
       "<style scoped>\n",
       "    .dataframe tbody tr th:only-of-type {\n",
       "        vertical-align: middle;\n",
       "    }\n",
       "\n",
       "    .dataframe tbody tr th {\n",
       "        vertical-align: top;\n",
       "    }\n",
       "\n",
       "    .dataframe thead tr th {\n",
       "        text-align: left;\n",
       "    }\n",
       "</style>\n",
       "<table border=\"1\" class=\"dataframe\">\n",
       "  <thead>\n",
       "    <tr>\n",
       "      <th></th>\n",
       "      <th colspan=\"2\" halign=\"left\">review_type</th>\n",
       "    </tr>\n",
       "    <tr>\n",
       "      <th></th>\n",
       "      <th></th>\n",
       "      <th>count</th>\n",
       "    </tr>\n",
       "  </thead>\n",
       "  <tbody>\n",
       "    <tr>\n",
       "      <th>5</th>\n",
       "      <td>single_focus</td>\n",
       "      <td>1093</td>\n",
       "    </tr>\n",
       "    <tr>\n",
       "      <th>2</th>\n",
       "      <td>multi</td>\n",
       "      <td>487</td>\n",
       "    </tr>\n",
       "    <tr>\n",
       "      <th>4</th>\n",
       "      <td>not_review</td>\n",
       "      <td>247</td>\n",
       "    </tr>\n",
       "    <tr>\n",
       "      <th>1</th>\n",
       "      <td>cluster</td>\n",
       "      <td>244</td>\n",
       "    </tr>\n",
       "    <tr>\n",
       "      <th>0</th>\n",
       "      <td>brief</td>\n",
       "      <td>82</td>\n",
       "    </tr>\n",
       "    <tr>\n",
       "      <th>3</th>\n",
       "      <td>no_pdf</td>\n",
       "      <td>2</td>\n",
       "    </tr>\n",
       "  </tbody>\n",
       "</table>\n",
       "</div>"
      ],
      "text/plain": [
       "    review_type      \n",
       "                count\n",
       "5  single_focus  1093\n",
       "2         multi   487\n",
       "4    not_review   247\n",
       "1       cluster   244\n",
       "0         brief    82\n",
       "3        no_pdf     2"
      ]
     },
     "execution_count": 10,
     "metadata": {},
     "output_type": "execute_result"
    }
   ],
   "source": [
    "df_meta = pd.read_csv('meta.csv', index_col=0)\n",
    "type_summary = df_meta.groupby('review_type').agg({'review_type':['count',]}).reset_index(drop=False).sort_values(by=('review_type', 'count'), ascending=False)\n",
    "type_summary"
   ]
  },
  {
   "cell_type": "code",
   "execution_count": 11,
   "id": "4039f575",
   "metadata": {},
   "outputs": [
    {
     "data": {
      "text/html": [
       "<div>\n",
       "<style scoped>\n",
       "    .dataframe tbody tr th:only-of-type {\n",
       "        vertical-align: middle;\n",
       "    }\n",
       "\n",
       "    .dataframe tbody tr th {\n",
       "        vertical-align: top;\n",
       "    }\n",
       "\n",
       "    .dataframe thead tr th {\n",
       "        text-align: left;\n",
       "    }\n",
       "</style>\n",
       "<table border=\"1\" class=\"dataframe\">\n",
       "  <thead>\n",
       "    <tr>\n",
       "      <th></th>\n",
       "      <th colspan=\"2\" halign=\"left\">genre_parsed</th>\n",
       "    </tr>\n",
       "    <tr>\n",
       "      <th></th>\n",
       "      <th></th>\n",
       "      <th>count</th>\n",
       "    </tr>\n",
       "  </thead>\n",
       "  <tbody>\n",
       "    <tr>\n",
       "      <th>2</th>\n",
       "      <td>nonfiction</td>\n",
       "      <td>801</td>\n",
       "    </tr>\n",
       "    <tr>\n",
       "      <th>1</th>\n",
       "      <td>fiction</td>\n",
       "      <td>226</td>\n",
       "    </tr>\n",
       "    <tr>\n",
       "      <th>3</th>\n",
       "      <td>poetry</td>\n",
       "      <td>34</td>\n",
       "    </tr>\n",
       "    <tr>\n",
       "      <th>0</th>\n",
       "      <td>drama</td>\n",
       "      <td>18</td>\n",
       "    </tr>\n",
       "  </tbody>\n",
       "</table>\n",
       "</div>"
      ],
      "text/plain": [
       "  genre_parsed      \n",
       "               count\n",
       "2   nonfiction   801\n",
       "1      fiction   226\n",
       "3       poetry    34\n",
       "0        drama    18"
      ]
     },
     "execution_count": 11,
     "metadata": {},
     "output_type": "execute_result"
    }
   ],
   "source": [
    "df_single = pd.read_csv('single_author_meta.csv', index_col=0)\n",
    "df_single_genre_summary = df_single.groupby('genre_parsed').agg({'genre_parsed':['count',]}).reset_index(drop=False).sort_values(by=('genre_parsed', 'count'), ascending=False)\n",
    "df_single_genre_summary"
   ]
  },
  {
   "cell_type": "code",
   "execution_count": 13,
   "id": "1c83c590",
   "metadata": {},
   "outputs": [],
   "source": [
    "# load ngrams data ... this will probably take about 30-60 seconds wall time\n",
    "\n",
    "ngram_stores_lower = {}\n",
    "\n",
    "base = 'extracted_features/ngrams'\n",
    "    \n",
    "for e in range(0,5):\n",
    "    ngram_store = {}\n",
    "    for i in df_single['record_id']:\n",
    "        this_csv= f'{base}/{str(e)}/{str(i)}.csv'\n",
    "        df = pd.read_csv(this_csv, index_col=0).dropna().reset_index(drop=True).set_index('ngram')\n",
    "        mydict = df['count'].to_dict()\n",
    "        try:\n",
    "            mycounter = Counter({ast.literal_eval(k):v for k,v in mydict.items()})\n",
    "        except:\n",
    "            mycounter = Counter(mydict)\n",
    "        ngram_store[i] = mycounter\n",
    "    ngram_stores_lower[e] = ngram_store"
   ]
  },
  {
   "cell_type": "code",
   "execution_count": 14,
   "id": "5f55f5bc",
   "metadata": {},
   "outputs": [],
   "source": [
    "# review text list of counters \n",
    "review_counters_all = [ngram_stores_lower[0][i] for i in df_single['record_id']]\n",
    "review_counters_all_no_stops = tf.remove_from_list_of_dicts(stopwords.words('english')+['nan'], review_counters_all)"
   ]
  },
  {
   "cell_type": "code",
   "execution_count": 15,
   "id": "ce8e869f",
   "metadata": {},
   "outputs": [
    {
     "data": {
      "text/html": [
       "<div>\n",
       "<style scoped>\n",
       "    .dataframe tbody tr th:only-of-type {\n",
       "        vertical-align: middle;\n",
       "    }\n",
       "\n",
       "    .dataframe tbody tr th {\n",
       "        vertical-align: top;\n",
       "    }\n",
       "\n",
       "    .dataframe thead th {\n",
       "        text-align: right;\n",
       "    }\n",
       "</style>\n",
       "<table border=\"1\" class=\"dataframe\">\n",
       "  <thead>\n",
       "    <tr style=\"text-align: right;\">\n",
       "      <th></th>\n",
       "      <th>record_id</th>\n",
       "      <th>match_string_raw</th>\n",
       "      <th>match_column</th>\n",
       "      <th>no_stops</th>\n",
       "    </tr>\n",
       "  </thead>\n",
       "  <tbody>\n",
       "    <tr>\n",
       "      <th>0</th>\n",
       "      <td>124900101</td>\n",
       "      <td>Lucien Carr</td>\n",
       "      <td>[lucien, carr]</td>\n",
       "      <td>[lucien, carr]</td>\n",
       "    </tr>\n",
       "    <tr>\n",
       "      <th>1</th>\n",
       "      <td>89760874</td>\n",
       "      <td>W. S. Jeans</td>\n",
       "      <td>[w, s, jeans]</td>\n",
       "      <td>[w, jeans]</td>\n",
       "    </tr>\n",
       "    <tr>\n",
       "      <th>2</th>\n",
       "      <td>89659668</td>\n",
       "      <td>Lord Byron</td>\n",
       "      <td>[lord, byron]</td>\n",
       "      <td>[lord, byron]</td>\n",
       "    </tr>\n",
       "    <tr>\n",
       "      <th>3</th>\n",
       "      <td>89659668</td>\n",
       "      <td>W. A. Lewis Bettany</td>\n",
       "      <td>[w, a, lewis, bettany]</td>\n",
       "      <td>[w, lewis, bettany]</td>\n",
       "    </tr>\n",
       "    <tr>\n",
       "      <th>4</th>\n",
       "      <td>124736362</td>\n",
       "      <td>Compton Mackenzie</td>\n",
       "      <td>[compton, mackenzie]</td>\n",
       "      <td>[compton, mackenzie]</td>\n",
       "    </tr>\n",
       "  </tbody>\n",
       "</table>\n",
       "</div>"
      ],
      "text/plain": [
       "   record_id      match_string_raw            match_column  \\\n",
       "0  124900101           Lucien Carr          [lucien, carr]   \n",
       "1   89760874           W. S. Jeans           [w, s, jeans]   \n",
       "2   89659668            Lord Byron           [lord, byron]   \n",
       "3   89659668   W. A. Lewis Bettany  [w, a, lewis, bettany]   \n",
       "4  124736362     Compton Mackenzie    [compton, mackenzie]   \n",
       "\n",
       "               no_stops  \n",
       "0        [lucien, carr]  \n",
       "1            [w, jeans]  \n",
       "2         [lord, byron]  \n",
       "3   [w, lewis, bettany]  \n",
       "4  [compton, mackenzie]  "
      ]
     },
     "execution_count": 15,
     "metadata": {},
     "output_type": "execute_result"
    }
   ],
   "source": [
    "# metadata text list of counters\n",
    "df_authors = pd.read_csv('authors_meta.csv', index_col=0)\n",
    "df_titles = pd.read_csv('titles_meta.csv', index_col=0)\n",
    "df_publishers = pd.read_csv('publishers_meta.csv', index_col=0)\n",
    "\n",
    "df_authors = df_authors.rename(mapper={'reviewed_author_name':'match_string_raw'}, axis=1)\n",
    "df_titles = df_titles.rename(mapper={'reviewed_book_title':'match_string_raw'}, axis=1)\n",
    "df_publishers = df_publishers.rename(mapper={'reviewed_book_publisher':'match_string_raw'}, axis=1)\n",
    "\n",
    "def make_columns(df):\n",
    "    df['match_string_raw'] = df['match_string_raw'].fillna('')\n",
    "    df['match_column'] = [tf.preprocess_text(str(i).lower()) for i in df['match_string_raw']]\n",
    "    df['no_stops'] = [[d for d in i if d not in stopwords.words('english')] for i in df['match_column']]\n",
    "    return df\n",
    "\n",
    "df_authors = make_columns(df_authors)\n",
    "df_titles = make_columns(df_titles)\n",
    "df_publishers = make_columns(df_publishers)\n",
    "df_authors.head(5)"
   ]
  },
  {
   "cell_type": "markdown",
   "id": "019f8a88",
   "metadata": {},
   "source": [
    "## Naive BOW Matching"
   ]
  },
  {
   "cell_type": "code",
   "execution_count": 25,
   "id": "4ff29da4",
   "metadata": {},
   "outputs": [],
   "source": [
    "meta_counters_store = {}\n",
    "\n",
    "for df in [df_authors, df_titles, df_publishers]:\n",
    "    \n",
    "    for e, row in df.iterrows():\n",
    "        data = row['no_stops'].copy()\n",
    "        try:\n",
    "            meta_counters_store[row['record_id']].extend([i for i in data if i !='nan'])\n",
    "        except KeyError:\n",
    "            meta_counters_store[row['record_id']] = [i for i in data if i !='nan']\n",
    "\n",
    "meta_counters_all = [Counter(meta_counters_store[i]) for i in df_single['record_id']]"
   ]
  },
  {
   "cell_type": "code",
   "execution_count": 26,
   "id": "29c5a081",
   "metadata": {},
   "outputs": [],
   "source": [
    "review_meta_combined = review_counters_all_no_stops + meta_counters_all"
   ]
  },
  {
   "cell_type": "code",
   "execution_count": 27,
   "id": "d6f5e313",
   "metadata": {},
   "outputs": [],
   "source": [
    "v = DictVectorizer(sparse=False)\n",
    "X = v.fit_transform(review_meta_combined)\n",
    "X_reviews_only = v.transform(review_counters_all_no_stops)\n",
    "X_meta_only = v.transform(meta_counters_all)\n",
    "\n",
    "# to here"
   ]
  },
  {
   "cell_type": "code",
   "execution_count": 28,
   "id": "85207a98",
   "metadata": {},
   "outputs": [
    {
     "name": "stdout",
     "output_type": "stream",
     "text": [
      "CPU times: user 3min 51s, sys: 21.1 s, total: 4min 12s\n",
      "Wall time: 4min 13s\n"
     ]
    }
   ],
   "source": [
    "%%time\n",
    "reviews_meta_records = sf.pairwise_cosine(X_reviews_only, X_meta_only)"
   ]
  },
  {
   "cell_type": "code",
   "execution_count": 29,
   "id": "750024e5",
   "metadata": {},
   "outputs": [
    {
     "name": "stdout",
     "output_type": "stream",
     "text": [
      "CPU times: user 18.3 s, sys: 5.31 s, total: 23.6 s\n",
      "Wall time: 23.8 s\n"
     ]
    }
   ],
   "source": [
    "%%time\n",
    "reviews_meta_scores = sf.pairwise_performance(reviews_meta_records)"
   ]
  },
  {
   "cell_type": "code",
   "execution_count": 30,
   "id": "21483ba0",
   "metadata": {},
   "outputs": [
    {
     "data": {
      "text/plain": [
       "([1, 0.8619091751621872], 791)"
      ]
     },
     "execution_count": 30,
     "metadata": {},
     "output_type": "execute_result"
    }
   ],
   "source": [
    "reviews_meta_scores[0], len(reviews_meta_scores) "
   ]
  },
  {
   "cell_type": "markdown",
   "id": "385f85f4",
   "metadata": {},
   "source": [
    "## Pretrained NER"
   ]
  },
  {
   "cell_type": "code",
   "execution_count": 31,
   "id": "ff72469d",
   "metadata": {},
   "outputs": [
    {
     "data": {
      "text/html": [
       "<div>\n",
       "<style scoped>\n",
       "    .dataframe tbody tr th:only-of-type {\n",
       "        vertical-align: middle;\n",
       "    }\n",
       "\n",
       "    .dataframe tbody tr th {\n",
       "        vertical-align: top;\n",
       "    }\n",
       "\n",
       "    .dataframe thead th {\n",
       "        text-align: right;\n",
       "    }\n",
       "</style>\n",
       "<table border=\"1\" class=\"dataframe\">\n",
       "  <thead>\n",
       "    <tr style=\"text-align: right;\">\n",
       "      <th></th>\n",
       "      <th>record_id</th>\n",
       "      <th>text</th>\n",
       "      <th>start_char</th>\n",
       "      <th>end_char</th>\n",
       "      <th>label</th>\n",
       "    </tr>\n",
       "  </thead>\n",
       "  <tbody>\n",
       "    <tr>\n",
       "      <th>0</th>\n",
       "      <td>124900101</td>\n",
       "      <td>the States of the Union</td>\n",
       "      <td>169</td>\n",
       "      <td>192</td>\n",
       "      <td>GPE</td>\n",
       "    </tr>\n",
       "    <tr>\n",
       "      <th>1</th>\n",
       "      <td>124900101</td>\n",
       "      <td>Missouri</td>\n",
       "      <td>254</td>\n",
       "      <td>262</td>\n",
       "      <td>GPE</td>\n",
       "    </tr>\n",
       "    <tr>\n",
       "      <th>2</th>\n",
       "      <td>124900101</td>\n",
       "      <td>Missouri</td>\n",
       "      <td>347</td>\n",
       "      <td>355</td>\n",
       "      <td>GPE</td>\n",
       "    </tr>\n",
       "    <tr>\n",
       "      <th>3</th>\n",
       "      <td>124900101</td>\n",
       "      <td>Union</td>\n",
       "      <td>448</td>\n",
       "      <td>453</td>\n",
       "      <td>ORG</td>\n",
       "    </tr>\n",
       "    <tr>\n",
       "      <th>4</th>\n",
       "      <td>124900101</td>\n",
       "      <td>the Civil War</td>\n",
       "      <td>478</td>\n",
       "      <td>491</td>\n",
       "      <td>EVENT</td>\n",
       "    </tr>\n",
       "  </tbody>\n",
       "</table>\n",
       "</div>"
      ],
      "text/plain": [
       "   record_id                     text  start_char  end_char  label\n",
       "0  124900101  the States of the Union         169       192    GPE\n",
       "1  124900101                 Missouri         254       262    GPE\n",
       "2  124900101                 Missouri         347       355    GPE\n",
       "3  124900101                    Union         448       453    ORG\n",
       "4  124900101            the Civil War         478       491  EVENT"
      ]
     },
     "execution_count": 31,
     "metadata": {},
     "output_type": "execute_result"
    }
   ],
   "source": [
    "df_ents_joined = pd.read_csv('extracted_features/spacy_entities_all.csv', index_col=0)\n",
    "df_ents_joined.head(5)"
   ]
  },
  {
   "cell_type": "code",
   "execution_count": 32,
   "id": "19ff910c",
   "metadata": {},
   "outputs": [
    {
     "name": "stderr",
     "output_type": "stream",
     "text": [
      "/Users/matthewlavin/miniforge3/envs/.miniconda_env/lib/python3.9/site-packages/pandas/core/frame.py:3607: SettingWithCopyWarning: \n",
      "A value is trying to be set on a copy of a slice from a DataFrame.\n",
      "Try using .loc[row_indexer,col_indexer] = value instead\n",
      "\n",
      "See the caveats in the documentation: https://pandas.pydata.org/pandas-docs/stable/user_guide/indexing.html#returning-a-view-versus-a-copy\n",
      "  self._set_item(key, value)\n"
     ]
    },
    {
     "data": {
      "text/html": [
       "<div>\n",
       "<style scoped>\n",
       "    .dataframe tbody tr th:only-of-type {\n",
       "        vertical-align: middle;\n",
       "    }\n",
       "\n",
       "    .dataframe tbody tr th {\n",
       "        vertical-align: top;\n",
       "    }\n",
       "\n",
       "    .dataframe thead th {\n",
       "        text-align: right;\n",
       "    }\n",
       "</style>\n",
       "<table border=\"1\" class=\"dataframe\">\n",
       "  <thead>\n",
       "    <tr style=\"text-align: right;\">\n",
       "      <th></th>\n",
       "      <th>record_id</th>\n",
       "      <th>text</th>\n",
       "      <th>start_char</th>\n",
       "      <th>end_char</th>\n",
       "      <th>label</th>\n",
       "      <th>match_column</th>\n",
       "      <th>no_stops</th>\n",
       "    </tr>\n",
       "  </thead>\n",
       "  <tbody>\n",
       "    <tr>\n",
       "      <th>0</th>\n",
       "      <td>124900101</td>\n",
       "      <td>the States of the Union</td>\n",
       "      <td>169</td>\n",
       "      <td>192</td>\n",
       "      <td>GPE</td>\n",
       "      <td>[the, states, of, the, union]</td>\n",
       "      <td>[states, union]</td>\n",
       "    </tr>\n",
       "    <tr>\n",
       "      <th>1</th>\n",
       "      <td>124900101</td>\n",
       "      <td>Missouri</td>\n",
       "      <td>254</td>\n",
       "      <td>262</td>\n",
       "      <td>GPE</td>\n",
       "      <td>[missouri]</td>\n",
       "      <td>[missouri]</td>\n",
       "    </tr>\n",
       "    <tr>\n",
       "      <th>2</th>\n",
       "      <td>124900101</td>\n",
       "      <td>Missouri</td>\n",
       "      <td>347</td>\n",
       "      <td>355</td>\n",
       "      <td>GPE</td>\n",
       "      <td>[missouri]</td>\n",
       "      <td>[missouri]</td>\n",
       "    </tr>\n",
       "    <tr>\n",
       "      <th>3</th>\n",
       "      <td>124900101</td>\n",
       "      <td>Union</td>\n",
       "      <td>448</td>\n",
       "      <td>453</td>\n",
       "      <td>ORG</td>\n",
       "      <td>[union]</td>\n",
       "      <td>[union]</td>\n",
       "    </tr>\n",
       "    <tr>\n",
       "      <th>4</th>\n",
       "      <td>124900101</td>\n",
       "      <td>the Civil War</td>\n",
       "      <td>478</td>\n",
       "      <td>491</td>\n",
       "      <td>EVENT</td>\n",
       "      <td>[the, civil, war]</td>\n",
       "      <td>[civil, war]</td>\n",
       "    </tr>\n",
       "  </tbody>\n",
       "</table>\n",
       "</div>"
      ],
      "text/plain": [
       "   record_id                     text  start_char  end_char  label  \\\n",
       "0  124900101  the States of the Union         169       192    GPE   \n",
       "1  124900101                 Missouri         254       262    GPE   \n",
       "2  124900101                 Missouri         347       355    GPE   \n",
       "3  124900101                    Union         448       453    ORG   \n",
       "4  124900101            the Civil War         478       491  EVENT   \n",
       "\n",
       "                    match_column         no_stops  \n",
       "0  [the, states, of, the, union]  [states, union]  \n",
       "1                     [missouri]       [missouri]  \n",
       "2                     [missouri]       [missouri]  \n",
       "3                        [union]          [union]  \n",
       "4              [the, civil, war]     [civil, war]  "
      ]
     },
     "execution_count": 32,
     "metadata": {},
     "output_type": "execute_result"
    }
   ],
   "source": [
    "spacy_ner_counters_store = {}\n",
    "entities = ['PERSON', 'GPE', 'NORP', 'ORG', 'FAC', 'EVENT', 'LOC', 'PRODUCT', 'WORK_OF_ART', 'LAW']        \n",
    "df_ents_selected = df_ents_joined.loc[df_ents_joined['label'].isin(entities)]\n",
    "df_ents_selected['match_column'] = [tf.preprocess_text(str(i).lower()) for i in df_ents_selected['text']]\n",
    "df_ents_selected['no_stops'] = [[d for d in i if d not in stopwords.words('english')] for i in df_ents_selected['match_column']]\n",
    "df_ents_selected.head(5)\n"
   ]
  },
  {
   "cell_type": "code",
   "execution_count": 33,
   "id": "4f3d9b9c",
   "metadata": {},
   "outputs": [],
   "source": [
    "for e, row in df_ents_selected.iterrows():\n",
    "    data = row['no_stops'].copy()\n",
    "    try:\n",
    "        spacy_ner_counters_store[row['record_id']].extend(data)\n",
    "    except KeyError:\n",
    "        spacy_ner_counters_store[row['record_id']] = data\n",
    "            \n",
    "spacy_ner_counters_all = [Counter(spacy_ner_counters_store[i]) for i in df_single['record_id']]"
   ]
  },
  {
   "cell_type": "code",
   "execution_count": 34,
   "id": "802d3f77",
   "metadata": {},
   "outputs": [],
   "source": [
    "spacy_meta_combined = spacy_ner_counters_all + meta_counters_all\n",
    "\n",
    "v = DictVectorizer(sparse=False)\n",
    "X = v.fit_transform(spacy_meta_combined)\n",
    "X_spacy_ner_only = v.transform(spacy_ner_counters_all)\n",
    "X_meta_only = v.transform(meta_counters_all)"
   ]
  },
  {
   "cell_type": "code",
   "execution_count": 35,
   "id": "31b69a61",
   "metadata": {},
   "outputs": [],
   "source": [
    "spacy_meta_records = sf.pairwise_cosine(X_spacy_ner_only, X_meta_only)"
   ]
  },
  {
   "cell_type": "code",
   "execution_count": 36,
   "id": "c56459cb",
   "metadata": {},
   "outputs": [],
   "source": [
    "spacy_meta_scores = sf.pairwise_performance(spacy_meta_records)"
   ]
  },
  {
   "cell_type": "code",
   "execution_count": 37,
   "id": "261289e5",
   "metadata": {},
   "outputs": [
    {
     "data": {
      "text/plain": [
       "([1, 0.8470806302131604], 768)"
      ]
     },
     "execution_count": 37,
     "metadata": {},
     "output_type": "execute_result"
    }
   ],
   "source": [
    "spacy_meta_scores[0], len(spacy_meta_scores)"
   ]
  },
  {
   "cell_type": "markdown",
   "id": "0d68b46d",
   "metadata": {},
   "source": [
    "## Rule-Based Matching"
   ]
  },
  {
   "cell_type": "code",
   "execution_count": 38,
   "id": "2c01f0b6",
   "metadata": {},
   "outputs": [],
   "source": [
    "# select features based on all matching title ngrams, publisher ngrams, author surnames and associated names \n",
    "x1 = list(df_publishers['no_stops'])\n",
    "pub_tokens = list(set([j for i in x1 for j in i]))\n",
    "\n",
    "x2 = list(df_titles['no_stops'])\n",
    "title_tokens = list(set([j for i in x2 for j in i]))"
   ]
  },
  {
   "cell_type": "code",
   "execution_count": 39,
   "id": "75fe6162",
   "metadata": {},
   "outputs": [],
   "source": [
    "# load extracted author data\n",
    "df_ac = pd.read_csv('extracted_features/author_candidates.csv', index_col=0)\n",
    "df_an = pd.read_csv('extracted_features/associated_names.csv', index_col=0)\n",
    "\n",
    "# remove nan, lowercase all, reduce to unique \n",
    "x3 = [eval(i) for i in df_ac.loc[df_ac['entity'] != 'nan']['entity']] \n",
    "x4 = [eval(i) for i in df_an.loc[df_an['entity'] != 'nan']['entity']]  \n",
    "\n",
    "candidate_tokens = list(set([j.lower() for i in x3 for j in i]))\n",
    "associated_tokens = list(set([j.lower() for i in x4 for j in i]))"
   ]
  },
  {
   "cell_type": "code",
   "execution_count": 40,
   "id": "2957ea24",
   "metadata": {},
   "outputs": [
    {
     "data": {
      "text/plain": [
       "(363, 1959, 2009, 2468, 4272)"
      ]
     },
     "execution_count": 40,
     "metadata": {},
     "output_type": "execute_result"
    }
   ],
   "source": [
    "extracted_feature_tokens = [i for i in list(set(candidate_tokens + associated_tokens + pub_tokens + title_tokens)) if i != 'nan']\n",
    "len(pub_tokens), len(title_tokens), len(candidate_tokens), len(associated_tokens), len(extracted_feature_tokens)"
   ]
  },
  {
   "cell_type": "code",
   "execution_count": 41,
   "id": "86df98d5",
   "metadata": {},
   "outputs": [],
   "source": [
    "review_counters_extracted_features = tf.cull_list_of_dicts(extracted_feature_tokens, review_counters_all)"
   ]
  },
  {
   "cell_type": "code",
   "execution_count": 42,
   "id": "a9ef331b",
   "metadata": {},
   "outputs": [],
   "source": [
    "extracted_meta_combined = review_counters_extracted_features + meta_counters_all\n",
    "\n",
    "v = DictVectorizer(sparse=False)\n",
    "X = v.fit_transform(extracted_meta_combined)\n",
    "X_extracted_only = v.transform(review_counters_extracted_features)\n",
    "X_meta_only = v.transform(meta_counters_all)"
   ]
  },
  {
   "cell_type": "code",
   "execution_count": 43,
   "id": "7c11227c",
   "metadata": {},
   "outputs": [],
   "source": [
    "extracted_meta_records = sf.pairwise_cosine(X_extracted_only, X_meta_only)\n",
    "extracted_meta_scores = sf.pairwise_performance(extracted_meta_records)"
   ]
  },
  {
   "cell_type": "code",
   "execution_count": 44,
   "id": "8b1e1acb",
   "metadata": {},
   "outputs": [
    {
     "data": {
      "text/html": [
       "<div>\n",
       "<style scoped>\n",
       "    .dataframe tbody tr th:only-of-type {\n",
       "        vertical-align: middle;\n",
       "    }\n",
       "\n",
       "    .dataframe tbody tr th {\n",
       "        vertical-align: top;\n",
       "    }\n",
       "\n",
       "    .dataframe thead th {\n",
       "        text-align: right;\n",
       "    }\n",
       "</style>\n",
       "<table border=\"1\" class=\"dataframe\">\n",
       "  <thead>\n",
       "    <tr style=\"text-align: right;\">\n",
       "      <th></th>\n",
       "      <th>window</th>\n",
       "      <th>column</th>\n",
       "      <th>score</th>\n",
       "    </tr>\n",
       "  </thead>\n",
       "  <tbody>\n",
       "    <tr>\n",
       "      <th>0</th>\n",
       "      <td>5</td>\n",
       "      <td>Naive BOW</td>\n",
       "      <td>0.954588</td>\n",
       "    </tr>\n",
       "    <tr>\n",
       "      <th>1</th>\n",
       "      <td>10</td>\n",
       "      <td>Naive BOW</td>\n",
       "      <td>0.972196</td>\n",
       "    </tr>\n",
       "    <tr>\n",
       "      <th>2</th>\n",
       "      <td>15</td>\n",
       "      <td>Naive BOW</td>\n",
       "      <td>0.979611</td>\n",
       "    </tr>\n",
       "    <tr>\n",
       "      <th>3</th>\n",
       "      <td>20</td>\n",
       "      <td>Naive BOW</td>\n",
       "      <td>0.983318</td>\n",
       "    </tr>\n",
       "    <tr>\n",
       "      <th>4</th>\n",
       "      <td>25</td>\n",
       "      <td>Naive BOW</td>\n",
       "      <td>0.986098</td>\n",
       "    </tr>\n",
       "    <tr>\n",
       "      <th>5</th>\n",
       "      <td>30</td>\n",
       "      <td>Naive BOW</td>\n",
       "      <td>0.987025</td>\n",
       "    </tr>\n",
       "    <tr>\n",
       "      <th>6</th>\n",
       "      <td>35</td>\n",
       "      <td>Naive BOW</td>\n",
       "      <td>0.988879</td>\n",
       "    </tr>\n",
       "    <tr>\n",
       "      <th>7</th>\n",
       "      <td>40</td>\n",
       "      <td>Naive BOW</td>\n",
       "      <td>0.991659</td>\n",
       "    </tr>\n",
       "    <tr>\n",
       "      <th>8</th>\n",
       "      <td>45</td>\n",
       "      <td>Naive BOW</td>\n",
       "      <td>0.991659</td>\n",
       "    </tr>\n",
       "    <tr>\n",
       "      <th>9</th>\n",
       "      <td>50</td>\n",
       "      <td>Naive BOW</td>\n",
       "      <td>0.992586</td>\n",
       "    </tr>\n",
       "    <tr>\n",
       "      <th>10</th>\n",
       "      <td>5</td>\n",
       "      <td>Rule-based</td>\n",
       "      <td>0.934198</td>\n",
       "    </tr>\n",
       "    <tr>\n",
       "      <th>11</th>\n",
       "      <td>10</td>\n",
       "      <td>Rule-based</td>\n",
       "      <td>0.959222</td>\n",
       "    </tr>\n",
       "    <tr>\n",
       "      <th>12</th>\n",
       "      <td>15</td>\n",
       "      <td>Rule-based</td>\n",
       "      <td>0.970343</td>\n",
       "    </tr>\n",
       "    <tr>\n",
       "      <th>13</th>\n",
       "      <td>20</td>\n",
       "      <td>Rule-based</td>\n",
       "      <td>0.977757</td>\n",
       "    </tr>\n",
       "    <tr>\n",
       "      <th>14</th>\n",
       "      <td>25</td>\n",
       "      <td>Rule-based</td>\n",
       "      <td>0.980538</td>\n",
       "    </tr>\n",
       "    <tr>\n",
       "      <th>15</th>\n",
       "      <td>30</td>\n",
       "      <td>Rule-based</td>\n",
       "      <td>0.982391</td>\n",
       "    </tr>\n",
       "    <tr>\n",
       "      <th>16</th>\n",
       "      <td>35</td>\n",
       "      <td>Rule-based</td>\n",
       "      <td>0.984245</td>\n",
       "    </tr>\n",
       "    <tr>\n",
       "      <th>17</th>\n",
       "      <td>40</td>\n",
       "      <td>Rule-based</td>\n",
       "      <td>0.985171</td>\n",
       "    </tr>\n",
       "    <tr>\n",
       "      <th>18</th>\n",
       "      <td>45</td>\n",
       "      <td>Rule-based</td>\n",
       "      <td>0.986098</td>\n",
       "    </tr>\n",
       "    <tr>\n",
       "      <th>19</th>\n",
       "      <td>50</td>\n",
       "      <td>Rule-based</td>\n",
       "      <td>0.987025</td>\n",
       "    </tr>\n",
       "    <tr>\n",
       "      <th>20</th>\n",
       "      <td>5</td>\n",
       "      <td>Pretrained NER</td>\n",
       "      <td>0.951807</td>\n",
       "    </tr>\n",
       "    <tr>\n",
       "      <th>21</th>\n",
       "      <td>10</td>\n",
       "      <td>Pretrained NER</td>\n",
       "      <td>0.964782</td>\n",
       "    </tr>\n",
       "    <tr>\n",
       "      <th>22</th>\n",
       "      <td>15</td>\n",
       "      <td>Pretrained NER</td>\n",
       "      <td>0.970343</td>\n",
       "    </tr>\n",
       "    <tr>\n",
       "      <th>23</th>\n",
       "      <td>20</td>\n",
       "      <td>Pretrained NER</td>\n",
       "      <td>0.972196</td>\n",
       "    </tr>\n",
       "    <tr>\n",
       "      <th>24</th>\n",
       "      <td>25</td>\n",
       "      <td>Pretrained NER</td>\n",
       "      <td>0.978684</td>\n",
       "    </tr>\n",
       "    <tr>\n",
       "      <th>25</th>\n",
       "      <td>30</td>\n",
       "      <td>Pretrained NER</td>\n",
       "      <td>0.982391</td>\n",
       "    </tr>\n",
       "    <tr>\n",
       "      <th>26</th>\n",
       "      <td>35</td>\n",
       "      <td>Pretrained NER</td>\n",
       "      <td>0.983318</td>\n",
       "    </tr>\n",
       "    <tr>\n",
       "      <th>27</th>\n",
       "      <td>40</td>\n",
       "      <td>Pretrained NER</td>\n",
       "      <td>0.984245</td>\n",
       "    </tr>\n",
       "    <tr>\n",
       "      <th>28</th>\n",
       "      <td>45</td>\n",
       "      <td>Pretrained NER</td>\n",
       "      <td>0.984245</td>\n",
       "    </tr>\n",
       "    <tr>\n",
       "      <th>29</th>\n",
       "      <td>50</td>\n",
       "      <td>Pretrained NER</td>\n",
       "      <td>0.985171</td>\n",
       "    </tr>\n",
       "  </tbody>\n",
       "</table>\n",
       "</div>"
      ],
      "text/plain": [
       "    window          column     score\n",
       "0        5       Naive BOW  0.954588\n",
       "1       10       Naive BOW  0.972196\n",
       "2       15       Naive BOW  0.979611\n",
       "3       20       Naive BOW  0.983318\n",
       "4       25       Naive BOW  0.986098\n",
       "5       30       Naive BOW  0.987025\n",
       "6       35       Naive BOW  0.988879\n",
       "7       40       Naive BOW  0.991659\n",
       "8       45       Naive BOW  0.991659\n",
       "9       50       Naive BOW  0.992586\n",
       "10       5      Rule-based  0.934198\n",
       "11      10      Rule-based  0.959222\n",
       "12      15      Rule-based  0.970343\n",
       "13      20      Rule-based  0.977757\n",
       "14      25      Rule-based  0.980538\n",
       "15      30      Rule-based  0.982391\n",
       "16      35      Rule-based  0.984245\n",
       "17      40      Rule-based  0.985171\n",
       "18      45      Rule-based  0.986098\n",
       "19      50      Rule-based  0.987025\n",
       "20       5  Pretrained NER  0.951807\n",
       "21      10  Pretrained NER  0.964782\n",
       "22      15  Pretrained NER  0.970343\n",
       "23      20  Pretrained NER  0.972196\n",
       "24      25  Pretrained NER  0.978684\n",
       "25      30  Pretrained NER  0.982391\n",
       "26      35  Pretrained NER  0.983318\n",
       "27      40  Pretrained NER  0.984245\n",
       "28      45  Pretrained NER  0.984245\n",
       "29      50  Pretrained NER  0.985171"
      ]
     },
     "execution_count": 44,
     "metadata": {},
     "output_type": "execute_result"
    }
   ],
   "source": [
    "df_scores_bow = pd.DataFrame.from_records(reviews_meta_scores, columns = ['window', 'recall']).set_index('window')\n",
    "df_scores_rules = pd.DataFrame.from_records(extracted_meta_scores, columns = ['window', 'recall']).set_index('window')\n",
    "df_scores_ner = pd.DataFrame.from_records(spacy_meta_scores, columns = ['window', 'recall_ner']).set_index('window')\n",
    "\n",
    "df_scores_all = df_scores_bow.join(df_scores_rules, lsuffix='_bow', rsuffix='_rules').join(df_scores_ner).reset_index()\n",
    "df_scores_all = df_scores_all.loc[df_scores_all['window'] % 5 == 0]\n",
    "df_scores_all = df_scores_all.head(10)\n",
    "\n",
    "\n",
    "dfm = df_scores_all.rename(mapper={'recall_bow':'Naive BOW', 'recall_ner':'Pretrained NER', 'recall_rules':'Rule-based', }, axis=1).melt('window', var_name='column', value_name='score')\n",
    "dfm"
   ]
  },
  {
   "cell_type": "code",
   "execution_count": 45,
   "id": "019c7a28",
   "metadata": {},
   "outputs": [
    {
     "data": {
      "text/plain": [
       "[Text(0.5, 1.0, 'Predicted Label is Correct or Close'),\n",
       " Text(0, 0.5, 'Percent of Reviews Correct or Close'),\n",
       " Text(0.5, 0, 'Proximity Threshold')]"
      ]
     },
     "execution_count": 45,
     "metadata": {},
     "output_type": "execute_result"
    },
    {
     "data": {
      "image/png": "[encoded data removed]",
      "text/plain": [
       "<Figure size 648x504 with 1 Axes>"
      ]
     },
     "metadata": {
      "needs_background": "light"
     },
     "output_type": "display_data"
    }
   ],
   "source": [
    "fig = plt.subplots(figsize=(9, 7))\n",
    "sns.lineplot(x='window', y='score', hue='column', data=dfm, marker='o', markerfacecolor='black').set(title='Predicted Label is Correct or Close', ylabel='Percent of Reviews Correct or Close', xlabel='Proximity Threshold')\n"
   ]
  },
  {
   "cell_type": "code",
   "execution_count": 46,
   "id": "2e9ad0fe",
   "metadata": {},
   "outputs": [
    {
     "data": {
      "text/plain": [
       "[790, 0.9990732159406858]"
      ]
     },
     "execution_count": 46,
     "metadata": {},
     "output_type": "execute_result"
    }
   ],
   "source": [
    "extracted_meta_scores[789]"
   ]
  },
  {
   "cell_type": "code",
   "execution_count": 47,
   "id": "1e5339af",
   "metadata": {},
   "outputs": [
    {
     "data": {
      "text/plain": [
       "[768, 1.0]"
      ]
     },
     "execution_count": 47,
     "metadata": {},
     "output_type": "execute_result"
    }
   ],
   "source": [
    "spacy_meta_scores[-1]"
   ]
  },
  {
   "cell_type": "code",
   "execution_count": 49,
   "id": "6c8e90be",
   "metadata": {},
   "outputs": [
    {
     "data": {
      "text/plain": [
       "((0.8168460825550723, 0.8619091751621872, 0.8301301108530023),\n",
       " (0.786430791037453, 0.8396663577386468, 0.8021198346499551),\n",
       " (0.7925084955205438, 0.8470806302131604, 0.8091941731422733))"
      ]
     },
     "execution_count": 49,
     "metadata": {},
     "output_type": "execute_result"
    }
   ],
   "source": [
    "from sklearn.metrics import precision_score, recall_score, f1_score\n",
    "\n",
    "def prf(records):\n",
    "    df = sf.pairwise_df(records)\n",
    "    return precision_score(df['source'], df['target'], average='weighted', zero_division=0.0), recall_score(df['source'], df['target'], average='weighted'), f1_score(df['source'], df['target'], average='weighted')\n",
    "\n",
    "prf(reviews_meta_records), prf(extracted_meta_records), prf(spacy_meta_records)"
   ]
  },
  {
   "cell_type": "markdown",
   "id": "bbd2fb4c",
   "metadata": {},
   "source": [
    "## False Positives Analysis"
   ]
  },
  {
   "cell_type": "code",
   "execution_count": 50,
   "id": "332f7846",
   "metadata": {},
   "outputs": [],
   "source": [
    "def analyze_fp(df):\n",
    "    df_fp = df.loc[df['source'] != df['target']]\n",
    "    fp_counts = df_fp.groupby('target').count()[['score']].sort_values(by='score', ascending=False)\n",
    "    return fp_counts\n",
    "\n",
    "def tp_vs_fp_scores(df, index):\n",
    "    return df.loc[df['target'] == index].sort_values(by='score', ascending=False)"
   ]
  },
  {
   "cell_type": "code",
   "execution_count": 51,
   "id": "e5f4fb6d",
   "metadata": {},
   "outputs": [],
   "source": [
    "naive_df = sf.pairwise_df(reviews_meta_records)\n",
    "naive_fp = analyze_fp(naive_df)\n",
    "\n",
    "spacy_df = sf.pairwise_df(spacy_meta_records)\n",
    "spacy_fp = analyze_fp(spacy_df)\n",
    "\n",
    "extracted_df = sf.pairwise_df(extracted_meta_records)\n",
    "extracted_fp = analyze_fp(extracted_df)"
   ]
  },
  {
   "cell_type": "code",
   "execution_count": 52,
   "id": "f42f3157",
   "metadata": {},
   "outputs": [],
   "source": [
    "fps_joined = naive_fp.join(spacy_fp, how='outer', lsuffix='_naive', rsuffix='_spacy').join(extracted_fp, how='outer').fillna(0).rename(mapper={'score':'extracted_score'}, axis=1)\n",
    "fps_joined['sum'] = fps_joined.sum(axis=1)\n",
    "fps_joined['mean_naive_extracted'] = (fps_joined['score_naive'] + fps_joined['extracted_score'])/2"
   ]
  },
  {
   "cell_type": "code",
   "execution_count": 53,
   "id": "d782d147",
   "metadata": {},
   "outputs": [
    {
     "data": {
      "text/html": [
       "<div>\n",
       "<style scoped>\n",
       "    .dataframe tbody tr th:only-of-type {\n",
       "        vertical-align: middle;\n",
       "    }\n",
       "\n",
       "    .dataframe tbody tr th {\n",
       "        vertical-align: top;\n",
       "    }\n",
       "\n",
       "    .dataframe thead th {\n",
       "        text-align: right;\n",
       "    }\n",
       "</style>\n",
       "<table border=\"1\" class=\"dataframe\">\n",
       "  <thead>\n",
       "    <tr style=\"text-align: right;\">\n",
       "      <th></th>\n",
       "      <th>score_naive</th>\n",
       "      <th>score_spacy</th>\n",
       "      <th>extracted_score</th>\n",
       "      <th>sum</th>\n",
       "      <th>mean_naive_extracted</th>\n",
       "    </tr>\n",
       "    <tr>\n",
       "      <th>target</th>\n",
       "      <th></th>\n",
       "      <th></th>\n",
       "      <th></th>\n",
       "      <th></th>\n",
       "      <th></th>\n",
       "    </tr>\n",
       "  </thead>\n",
       "  <tbody>\n",
       "    <tr>\n",
       "      <th>707</th>\n",
       "      <td>1.0</td>\n",
       "      <td>11.0</td>\n",
       "      <td>1.0</td>\n",
       "      <td>13.0</td>\n",
       "      <td>1.0</td>\n",
       "    </tr>\n",
       "    <tr>\n",
       "      <th>276</th>\n",
       "      <td>1.0</td>\n",
       "      <td>4.0</td>\n",
       "      <td>3.0</td>\n",
       "      <td>8.0</td>\n",
       "      <td>2.0</td>\n",
       "    </tr>\n",
       "    <tr>\n",
       "      <th>770</th>\n",
       "      <td>0.0</td>\n",
       "      <td>4.0</td>\n",
       "      <td>0.0</td>\n",
       "      <td>4.0</td>\n",
       "      <td>0.0</td>\n",
       "    </tr>\n",
       "    <tr>\n",
       "      <th>394</th>\n",
       "      <td>2.0</td>\n",
       "      <td>3.0</td>\n",
       "      <td>2.0</td>\n",
       "      <td>7.0</td>\n",
       "      <td>2.0</td>\n",
       "    </tr>\n",
       "    <tr>\n",
       "      <th>181</th>\n",
       "      <td>1.0</td>\n",
       "      <td>3.0</td>\n",
       "      <td>1.0</td>\n",
       "      <td>5.0</td>\n",
       "      <td>1.0</td>\n",
       "    </tr>\n",
       "    <tr>\n",
       "      <th>892</th>\n",
       "      <td>3.0</td>\n",
       "      <td>3.0</td>\n",
       "      <td>5.0</td>\n",
       "      <td>11.0</td>\n",
       "      <td>4.0</td>\n",
       "    </tr>\n",
       "    <tr>\n",
       "      <th>1047</th>\n",
       "      <td>0.0</td>\n",
       "      <td>2.0</td>\n",
       "      <td>0.0</td>\n",
       "      <td>2.0</td>\n",
       "      <td>0.0</td>\n",
       "    </tr>\n",
       "    <tr>\n",
       "      <th>346</th>\n",
       "      <td>1.0</td>\n",
       "      <td>2.0</td>\n",
       "      <td>1.0</td>\n",
       "      <td>4.0</td>\n",
       "      <td>1.0</td>\n",
       "    </tr>\n",
       "  </tbody>\n",
       "</table>\n",
       "</div>"
      ],
      "text/plain": [
       "        score_naive  score_spacy  extracted_score   sum  mean_naive_extracted\n",
       "target                                                                       \n",
       "707             1.0         11.0              1.0  13.0                   1.0\n",
       "276             1.0          4.0              3.0   8.0                   2.0\n",
       "770             0.0          4.0              0.0   4.0                   0.0\n",
       "394             2.0          3.0              2.0   7.0                   2.0\n",
       "181             1.0          3.0              1.0   5.0                   1.0\n",
       "892             3.0          3.0              5.0  11.0                   4.0\n",
       "1047            0.0          2.0              0.0   2.0                   0.0\n",
       "346             1.0          2.0              1.0   4.0                   1.0"
      ]
     },
     "execution_count": 53,
     "metadata": {},
     "output_type": "execute_result"
    }
   ],
   "source": [
    "fps_joined.sort_values(by='score_spacy', ascending=False).head(8)"
   ]
  },
  {
   "cell_type": "code",
   "execution_count": 54,
   "id": "3987fcc6",
   "metadata": {},
   "outputs": [
    {
     "data": {
      "text/html": [
       "<div>\n",
       "<style scoped>\n",
       "    .dataframe tbody tr th:only-of-type {\n",
       "        vertical-align: middle;\n",
       "    }\n",
       "\n",
       "    .dataframe tbody tr th {\n",
       "        vertical-align: top;\n",
       "    }\n",
       "\n",
       "    .dataframe thead th {\n",
       "        text-align: right;\n",
       "    }\n",
       "</style>\n",
       "<table border=\"1\" class=\"dataframe\">\n",
       "  <thead>\n",
       "    <tr style=\"text-align: right;\">\n",
       "      <th></th>\n",
       "      <th>target</th>\n",
       "      <th>score_naive</th>\n",
       "      <th>score_spacy</th>\n",
       "      <th>extracted_score</th>\n",
       "      <th>sum</th>\n",
       "      <th>mean_naive_extracted</th>\n",
       "    </tr>\n",
       "  </thead>\n",
       "  <tbody>\n",
       "    <tr>\n",
       "      <th>0</th>\n",
       "      <td>63</td>\n",
       "      <td>12.0</td>\n",
       "      <td>0.0</td>\n",
       "      <td>16.0</td>\n",
       "      <td>28.0</td>\n",
       "      <td>14.0</td>\n",
       "    </tr>\n",
       "    <tr>\n",
       "      <th>1</th>\n",
       "      <td>607</td>\n",
       "      <td>5.0</td>\n",
       "      <td>0.0</td>\n",
       "      <td>5.0</td>\n",
       "      <td>10.0</td>\n",
       "      <td>5.0</td>\n",
       "    </tr>\n",
       "    <tr>\n",
       "      <th>2</th>\n",
       "      <td>7</td>\n",
       "      <td>9.0</td>\n",
       "      <td>0.0</td>\n",
       "      <td>0.0</td>\n",
       "      <td>9.0</td>\n",
       "      <td>4.5</td>\n",
       "    </tr>\n",
       "    <tr>\n",
       "      <th>3</th>\n",
       "      <td>1033</td>\n",
       "      <td>4.0</td>\n",
       "      <td>0.0</td>\n",
       "      <td>5.0</td>\n",
       "      <td>9.0</td>\n",
       "      <td>4.5</td>\n",
       "    </tr>\n",
       "    <tr>\n",
       "      <th>4</th>\n",
       "      <td>720</td>\n",
       "      <td>3.0</td>\n",
       "      <td>0.0</td>\n",
       "      <td>5.0</td>\n",
       "      <td>8.0</td>\n",
       "      <td>4.0</td>\n",
       "    </tr>\n",
       "    <tr>\n",
       "      <th>5</th>\n",
       "      <td>892</td>\n",
       "      <td>3.0</td>\n",
       "      <td>3.0</td>\n",
       "      <td>5.0</td>\n",
       "      <td>11.0</td>\n",
       "      <td>4.0</td>\n",
       "    </tr>\n",
       "    <tr>\n",
       "      <th>6</th>\n",
       "      <td>769</td>\n",
       "      <td>3.0</td>\n",
       "      <td>0.0</td>\n",
       "      <td>3.0</td>\n",
       "      <td>6.0</td>\n",
       "      <td>3.0</td>\n",
       "    </tr>\n",
       "    <tr>\n",
       "      <th>7</th>\n",
       "      <td>824</td>\n",
       "      <td>3.0</td>\n",
       "      <td>0.0</td>\n",
       "      <td>3.0</td>\n",
       "      <td>6.0</td>\n",
       "      <td>3.0</td>\n",
       "    </tr>\n",
       "    <tr>\n",
       "      <th>8</th>\n",
       "      <td>926</td>\n",
       "      <td>2.0</td>\n",
       "      <td>0.0</td>\n",
       "      <td>3.0</td>\n",
       "      <td>5.0</td>\n",
       "      <td>2.5</td>\n",
       "    </tr>\n",
       "    <tr>\n",
       "      <th>9</th>\n",
       "      <td>482</td>\n",
       "      <td>2.0</td>\n",
       "      <td>0.0</td>\n",
       "      <td>3.0</td>\n",
       "      <td>5.0</td>\n",
       "      <td>2.5</td>\n",
       "    </tr>\n",
       "    <tr>\n",
       "      <th>10</th>\n",
       "      <td>16</td>\n",
       "      <td>2.0</td>\n",
       "      <td>0.0</td>\n",
       "      <td>3.0</td>\n",
       "      <td>5.0</td>\n",
       "      <td>2.5</td>\n",
       "    </tr>\n",
       "    <tr>\n",
       "      <th>11</th>\n",
       "      <td>839</td>\n",
       "      <td>2.0</td>\n",
       "      <td>0.0</td>\n",
       "      <td>2.0</td>\n",
       "      <td>4.0</td>\n",
       "      <td>2.0</td>\n",
       "    </tr>\n",
       "    <tr>\n",
       "      <th>12</th>\n",
       "      <td>128</td>\n",
       "      <td>2.0</td>\n",
       "      <td>0.0</td>\n",
       "      <td>2.0</td>\n",
       "      <td>4.0</td>\n",
       "      <td>2.0</td>\n",
       "    </tr>\n",
       "    <tr>\n",
       "      <th>13</th>\n",
       "      <td>823</td>\n",
       "      <td>2.0</td>\n",
       "      <td>1.0</td>\n",
       "      <td>2.0</td>\n",
       "      <td>5.0</td>\n",
       "      <td>2.0</td>\n",
       "    </tr>\n",
       "    <tr>\n",
       "      <th>14</th>\n",
       "      <td>401</td>\n",
       "      <td>2.0</td>\n",
       "      <td>2.0</td>\n",
       "      <td>2.0</td>\n",
       "      <td>6.0</td>\n",
       "      <td>2.0</td>\n",
       "    </tr>\n",
       "  </tbody>\n",
       "</table>\n",
       "</div>"
      ],
      "text/plain": [
       "    target  score_naive  score_spacy  extracted_score   sum  \\\n",
       "0       63         12.0          0.0             16.0  28.0   \n",
       "1      607          5.0          0.0              5.0  10.0   \n",
       "2        7          9.0          0.0              0.0   9.0   \n",
       "3     1033          4.0          0.0              5.0   9.0   \n",
       "4      720          3.0          0.0              5.0   8.0   \n",
       "5      892          3.0          3.0              5.0  11.0   \n",
       "6      769          3.0          0.0              3.0   6.0   \n",
       "7      824          3.0          0.0              3.0   6.0   \n",
       "8      926          2.0          0.0              3.0   5.0   \n",
       "9      482          2.0          0.0              3.0   5.0   \n",
       "10      16          2.0          0.0              3.0   5.0   \n",
       "11     839          2.0          0.0              2.0   4.0   \n",
       "12     128          2.0          0.0              2.0   4.0   \n",
       "13     823          2.0          1.0              2.0   5.0   \n",
       "14     401          2.0          2.0              2.0   6.0   \n",
       "\n",
       "    mean_naive_extracted  \n",
       "0                   14.0  \n",
       "1                    5.0  \n",
       "2                    4.5  \n",
       "3                    4.5  \n",
       "4                    4.0  \n",
       "5                    4.0  \n",
       "6                    3.0  \n",
       "7                    3.0  \n",
       "8                    2.5  \n",
       "9                    2.5  \n",
       "10                   2.5  \n",
       "11                   2.0  \n",
       "12                   2.0  \n",
       "13                   2.0  \n",
       "14                   2.0  "
      ]
     },
     "execution_count": 54,
     "metadata": {},
     "output_type": "execute_result"
    }
   ],
   "source": [
    "fps_joined.sort_values(by='mean_naive_extracted', ascending=False).head(15).reset_index()"
   ]
  },
  {
   "cell_type": "code",
   "execution_count": 55,
   "id": "8e248d25",
   "metadata": {},
   "outputs": [],
   "source": [
    "worst_spacy = fps_joined.sort_values(by='score_spacy', ascending=False).head(3).index.to_list()\n",
    "worst_overall = fps_joined.sort_values(by='sum', ascending=False).head(15).index.to_list()\n",
    "worst_naive_extracted = fps_joined.sort_values(by='mean_naive_extracted', ascending=False).head(15).index.to_list()"
   ]
  },
  {
   "cell_type": "code",
   "execution_count": 56,
   "id": "999c085d",
   "metadata": {},
   "outputs": [
    {
     "name": "stdout",
     "output_type": "stream",
     "text": [
      "|                 |   score_naive |   score_spacy |   extracted_score |\n",
      "|:----------------|--------------:|--------------:|------------------:|\n",
      "| score_naive     |      1        |     -0.173245 |          0.824175 |\n",
      "| score_spacy     |     -0.173245 |      1        |         -0.150329 |\n",
      "| extracted_score |      0.824175 |     -0.150329 |          1        |\n"
     ]
    }
   ],
   "source": [
    "print(fps_joined[['score_naive','score_spacy','extracted_score']].corr().to_markdown())"
   ]
  },
  {
   "cell_type": "code",
   "execution_count": 57,
   "id": "9c3ab385",
   "metadata": {},
   "outputs": [],
   "source": [
    "def index_to_meta(fp_index):\n",
    "    ri = df_single.reset_index().iloc[fp_index]['record_id']\n",
    "    a = ' '.join(df_authors.loc[df_authors['record_id'] == ri]['match_string_raw'].to_list())\n",
    "    t = ' '.join(df_titles.loc[df_titles['record_id'] == ri]['match_string_raw'].to_list())\n",
    "    p = ' '.join(df_publishers.loc[df_publishers['record_id'] == ri]['match_string_raw'].to_list())\n",
    "    return [a,t,p]\n"
   ]
  },
  {
   "cell_type": "code",
   "execution_count": 58,
   "id": "fa506697",
   "metadata": {},
   "outputs": [
    {
     "name": "stdout",
     "output_type": "stream",
     "text": [
      "['Cahan', 'A Tale of the New York Ghetto', 'D. Appleton & Co']\n",
      "['John D. Long', 'The New American Navy', 'The Outlook Co.']\n",
      "['James Smethan', 'Letters of James Smetham', 'Macmillan & Co.']\n"
     ]
    }
   ],
   "source": [
    "for i in worst_spacy:\n",
    "    print(index_to_meta(i))"
   ]
  },
  {
   "cell_type": "code",
   "execution_count": 59,
   "id": "13628430",
   "metadata": {},
   "outputs": [
    {
     "name": "stdout",
     "output_type": "stream",
     "text": [
      "dict_keys(['cahan', 'tale', 'new', 'york', 'ghetto', 'appleton', 'co'])\n",
      "dict_keys(['john', 'long', 'new', 'american', 'navy', 'outlook', 'co'])\n",
      "dict_keys(['james', 'smethan', 'letters', 'smetham', 'macmillan', 'co'])\n"
     ]
    }
   ],
   "source": [
    "for i in worst_spacy:\n",
    "    print(meta_counters_all[i].keys())"
   ]
  },
  {
   "cell_type": "code",
   "execution_count": 60,
   "id": "2b60c9a9",
   "metadata": {},
   "outputs": [
    {
     "name": "stdout",
     "output_type": "stream",
     "text": [
      "['Schuyler Van Rensselaer', 'One Man Who Was Content', 'The Century Company']\n",
      "['Adam', 'My Literary Life', 'Appleton']\n",
      "['Mr. Benson', 'Mrs. Ames', '']\n",
      "['Cuthbert Wright', 'One Way of Love', 'Elkin Mathews']\n",
      "['Iles', 'Inventors at Work', 'Doubleday, Page & Co.']\n",
      "['Henri de Régnier', \"L'Illusion Heroique de Tito Bassi\", 'Mercure de France']\n",
      "['Lafarge', 'One Hundred Masterpieces of Painting', 'Doubleday, Page & Co.']\n",
      "['Graham', 'Socialism New and Old', 'D. Appleton & Co']\n",
      "['Marion Harland', 'The Story of a Long Life', 'Harper & Brothers']\n",
      "['Canon Luckock', 'Studies in the history of the book of common prayer', '']\n",
      "['Georges Perrot', 'History of Art in Ancient Greece: Mycenian Art', 'A.C. Armstrong & Son']\n",
      "['P. Chalmers Mitchell', 'Thomas Henry Huxley: A Sketch of His Life and Work', \"G. P. Putnam's Sons\"]\n",
      "['John M. Armour', 'Atonement and Law: Or, redemption in harmony with law as revealed in nature', 'The Christian Statesman Publishing Co.']\n",
      "['Frank Dilnot', 'Lloyd George: The Man and His Story', 'Harper']\n",
      "['E. Levasseur', \"La Population Française: Histoire de la Population avant 1789 et Démographie de la France comparée a celle des autres nations au XIXᵉ siècle, précédée d'une Introduction sur la Statistique\", 'Arthur Rousseau']\n"
     ]
    }
   ],
   "source": [
    "for i in worst_naive_extracted :\n",
    "    print(index_to_meta(i))"
   ]
  },
  {
   "cell_type": "code",
   "execution_count": 61,
   "id": "d9ef0919",
   "metadata": {},
   "outputs": [
    {
     "name": "stdout",
     "output_type": "stream",
     "text": [
      "dict_keys(['schuyler', 'van', 'rensselaer', 'one', 'man', 'content', 'century', 'company'])\n",
      "dict_keys(['adam', 'literary', 'life', 'appleton'])\n",
      "dict_keys(['mr', 'benson', 'mrs', 'ames'])\n",
      "dict_keys(['cuthbert', 'wright', 'one', 'way', 'love', 'elkin', 'mathews'])\n",
      "dict_keys(['iles', 'inventors', 'work', 'doubleday', 'page', 'co'])\n",
      "dict_keys(['henri', 'de', 'régnier', 'l', 'illusion', 'heroique', 'tito', 'bassi', 'mercure', 'france'])\n",
      "dict_keys(['lafarge', 'one', 'hundred', 'masterpieces', 'painting', 'doubleday', 'page', 'co'])\n",
      "dict_keys(['graham', 'socialism', 'new', 'old', 'appleton', 'co'])\n",
      "dict_keys(['marion', 'harland', 'story', 'long', 'life', 'harper', 'brothers'])\n",
      "dict_keys(['canon', 'luckock', 'studies', 'history', 'book', 'common', 'prayer'])\n",
      "dict_keys(['georges', 'perrot', 'history', 'art', 'ancient', 'greece', 'mycenian', 'ac', 'armstrong', 'son'])\n",
      "dict_keys(['p', 'chalmers', 'mitchell', 'thomas', 'henry', 'huxley', 'sketch', 'life', 'work', 'g', 'putnam', 'sons'])\n",
      "dict_keys(['john', 'armour', 'atonement', 'law', 'redemption', 'harmony', 'revealed', 'nature', 'christian', 'statesman', 'publishing', 'co'])\n",
      "dict_keys(['frank', 'dilnot', 'lloyd', 'george', 'man', 'story', 'harper'])\n",
      "dict_keys(['e', 'levasseur', 'la', 'population', 'française', 'histoire', 'de', 'avant', 'et', 'démographie', 'france', 'comparée', 'celle', 'des', 'autres', 'nations', 'au', 'xixᵉ', 'siècle', 'précédée', 'une', 'introduction', 'sur', 'statistique', 'arthur', 'rousseau'])\n"
     ]
    }
   ],
   "source": [
    "for i in worst_naive_extracted:\n",
    "    print(meta_counters_all[i].keys())"
   ]
  },
  {
   "cell_type": "code",
   "execution_count": 62,
   "id": "ce823e05",
   "metadata": {},
   "outputs": [
    {
     "name": "stdout",
     "output_type": "stream",
     "text": [
      "['tim', 'explorer', 'cahan', 'new', 'york', 'ghetto', 'jews', 'suffolk', 'street', 'philadelphians', 'russia', 'french', 'europe', 'poland', 'galicia', 'hungary', 'roumania', 'jew', 'russified', 'moscow', 'st', 'petersburg', 'kieff', 'saratoff', 'jewish', 'russian', 'houston', 'delancey', 'rivington', 'broome', 'lounger']\n",
      "['long', 'n', 'outlook', 'co', 'mir', 'american', 'navy', 'spanish', 'war', 'schley', 'sampson']\n",
      "['raph', 'ael', 'penny', 'magazine', 'lincoln', 'cathedral', 'shropshire', 'london', 'royal', 'academy', 'liverpool', 'normal', 'college', 'westminster', 'ruskin', 'james', 'smetham', 'introductory', 'memoir', 'sarah', 'william', 'davies', 'macmillan', 'co', 'watts', 'dream', 'pilate', 'wife', 'women', 'crucifixion', 'rossetti', 'methodist', 'mahomet', 'tennyson', 'hawthorne', 'hunstanton', 'sea']\n"
     ]
    }
   ],
   "source": [
    "for i in worst_spacy:\n",
    "    print(list(spacy_ner_counters_all[i].keys()))"
   ]
  },
  {
   "cell_type": "code",
   "execution_count": 63,
   "id": "738075b8",
   "metadata": {},
   "outputs": [
    {
     "data": {
      "text/html": [
       "<div>\n",
       "<style scoped>\n",
       "    .dataframe tbody tr th:only-of-type {\n",
       "        vertical-align: middle;\n",
       "    }\n",
       "\n",
       "    .dataframe tbody tr th {\n",
       "        vertical-align: top;\n",
       "    }\n",
       "\n",
       "    .dataframe thead th {\n",
       "        text-align: right;\n",
       "    }\n",
       "</style>\n",
       "<table border=\"1\" class=\"dataframe\">\n",
       "  <thead>\n",
       "    <tr style=\"text-align: right;\">\n",
       "      <th></th>\n",
       "      <th>source</th>\n",
       "      <th>target</th>\n",
       "      <th>score</th>\n",
       "    </tr>\n",
       "  </thead>\n",
       "  <tbody>\n",
       "    <tr>\n",
       "      <th>63</th>\n",
       "      <td>63</td>\n",
       "      <td>63</td>\n",
       "      <td>0.358364</td>\n",
       "    </tr>\n",
       "    <tr>\n",
       "      <th>34</th>\n",
       "      <td>34</td>\n",
       "      <td>63</td>\n",
       "      <td>0.187952</td>\n",
       "    </tr>\n",
       "    <tr>\n",
       "      <th>604</th>\n",
       "      <td>604</td>\n",
       "      <td>63</td>\n",
       "      <td>0.176973</td>\n",
       "    </tr>\n",
       "    <tr>\n",
       "      <th>348</th>\n",
       "      <td>348</td>\n",
       "      <td>63</td>\n",
       "      <td>0.167219</td>\n",
       "    </tr>\n",
       "    <tr>\n",
       "      <th>120</th>\n",
       "      <td>120</td>\n",
       "      <td>63</td>\n",
       "      <td>0.164088</td>\n",
       "    </tr>\n",
       "    <tr>\n",
       "      <th>701</th>\n",
       "      <td>701</td>\n",
       "      <td>63</td>\n",
       "      <td>0.163188</td>\n",
       "    </tr>\n",
       "    <tr>\n",
       "      <th>1044</th>\n",
       "      <td>1044</td>\n",
       "      <td>63</td>\n",
       "      <td>0.159919</td>\n",
       "    </tr>\n",
       "    <tr>\n",
       "      <th>15</th>\n",
       "      <td>15</td>\n",
       "      <td>63</td>\n",
       "      <td>0.154303</td>\n",
       "    </tr>\n",
       "    <tr>\n",
       "      <th>392</th>\n",
       "      <td>392</td>\n",
       "      <td>63</td>\n",
       "      <td>0.149297</td>\n",
       "    </tr>\n",
       "    <tr>\n",
       "      <th>182</th>\n",
       "      <td>182</td>\n",
       "      <td>63</td>\n",
       "      <td>0.146599</td>\n",
       "    </tr>\n",
       "    <tr>\n",
       "      <th>429</th>\n",
       "      <td>429</td>\n",
       "      <td>63</td>\n",
       "      <td>0.139551</td>\n",
       "    </tr>\n",
       "    <tr>\n",
       "      <th>904</th>\n",
       "      <td>904</td>\n",
       "      <td>63</td>\n",
       "      <td>0.139368</td>\n",
       "    </tr>\n",
       "    <tr>\n",
       "      <th>42</th>\n",
       "      <td>42</td>\n",
       "      <td>63</td>\n",
       "      <td>0.103730</td>\n",
       "    </tr>\n",
       "  </tbody>\n",
       "</table>\n",
       "</div>"
      ],
      "text/plain": [
       "      source  target     score\n",
       "63        63      63  0.358364\n",
       "34        34      63  0.187952\n",
       "604      604      63  0.176973\n",
       "348      348      63  0.167219\n",
       "120      120      63  0.164088\n",
       "701      701      63  0.163188\n",
       "1044    1044      63  0.159919\n",
       "15        15      63  0.154303\n",
       "392      392      63  0.149297\n",
       "182      182      63  0.146599\n",
       "429      429      63  0.139551\n",
       "904      904      63  0.139368\n",
       "42        42      63  0.103730"
      ]
     },
     "execution_count": 63,
     "metadata": {},
     "output_type": "execute_result"
    }
   ],
   "source": [
    "tp_vs_fp_scores(naive_df, 63)"
   ]
  },
  {
   "cell_type": "code",
   "execution_count": 64,
   "id": "796accf2",
   "metadata": {},
   "outputs": [
    {
     "data": {
      "text/html": [
       "<div>\n",
       "<style scoped>\n",
       "    .dataframe tbody tr th:only-of-type {\n",
       "        vertical-align: middle;\n",
       "    }\n",
       "\n",
       "    .dataframe tbody tr th {\n",
       "        vertical-align: top;\n",
       "    }\n",
       "\n",
       "    .dataframe thead th {\n",
       "        text-align: right;\n",
       "    }\n",
       "</style>\n",
       "<table border=\"1\" class=\"dataframe\">\n",
       "  <thead>\n",
       "    <tr style=\"text-align: right;\">\n",
       "      <th></th>\n",
       "      <th>source</th>\n",
       "      <th>target</th>\n",
       "      <th>score</th>\n",
       "    </tr>\n",
       "  </thead>\n",
       "  <tbody>\n",
       "    <tr>\n",
       "      <th>707</th>\n",
       "      <td>707</td>\n",
       "      <td>707</td>\n",
       "      <td>0.251295</td>\n",
       "    </tr>\n",
       "    <tr>\n",
       "      <th>760</th>\n",
       "      <td>760</td>\n",
       "      <td>707</td>\n",
       "      <td>0.075499</td>\n",
       "    </tr>\n",
       "  </tbody>\n",
       "</table>\n",
       "</div>"
      ],
      "text/plain": [
       "     source  target     score\n",
       "707     707     707  0.251295\n",
       "760     760     707  0.075499"
      ]
     },
     "execution_count": 64,
     "metadata": {},
     "output_type": "execute_result"
    }
   ],
   "source": [
    "tp_vs_fp_scores(naive_df, 707)"
   ]
  },
  {
   "cell_type": "code",
   "execution_count": 65,
   "id": "475c872b",
   "metadata": {},
   "outputs": [],
   "source": [
    "def describe_tp_fp(df, strategy):\n",
    "    # naive TPs\n",
    "    tp = pd.DataFrame(df.loc[df['source'] == df['target']]['score'].describe())\n",
    "    fp = pd.DataFrame(df.loc[df['source'] != df['target']]['score'].describe())\n",
    "    joined = tp.join(fp, lsuffix='_tp', rsuffix='_fp')\n",
    "    return joined.rename(mapper={'score_tp':f'{strategy}_tp', 'score_fp':f'{strategy}_fp', }, axis=1)\n"
   ]
  },
  {
   "cell_type": "code",
   "execution_count": 66,
   "id": "f3e3594e",
   "metadata": {},
   "outputs": [
    {
     "name": "stdout",
     "output_type": "stream",
     "text": [
      "|      |   naive_tp |   naive_fp |    ner_tp |    ner_fp |   rule_based_tp |   rule_based_fp |\n",
      "|:-----|-----------:|-----------:|----------:|----------:|----------------:|----------------:|\n",
      "| mean |  0.279798  |  0.195457  | 0.48145   | 0.324069  |        0.37251  |       0.25451   |\n",
      "| min  |  0.0899659 |  0.0589883 | 0.0836003 | 0.0766965 |        0.142857 |       0.0741332 |\n",
      "| 25%  |  0.216619  |  0.146599  | 0.374897  | 0.233882  |        0.296421 |       0.199667  |\n",
      "| 50%  |  0.273474  |  0.179167  | 0.472631  | 0.306186  |        0.368572 |       0.234146  |\n",
      "| 75%  |  0.334566  |  0.226339  | 0.581786  | 0.401663  |        0.439044 |       0.287023  |\n",
      "| max  |  0.601052  |  0.515969  | 0.981266  | 0.746203  |        0.708333 |       0.655562  |\n"
     ]
    }
   ],
   "source": [
    "naive_d = describe_tp_fp(naive_df, 'naive')\n",
    "spacy_d = describe_tp_fp(spacy_df, 'ner')\n",
    "extracted_d = describe_tp_fp(extracted_df, 'rule_based')\n",
    "\n",
    "joined_d = naive_d.join(spacy_d).join(extracted_d)\n",
    "print(joined_d[joined_d.index.isin(['mean', '25%','50%','75%','min', 'max'])].to_markdown())"
   ]
  },
  {
   "cell_type": "code",
   "execution_count": 67,
   "id": "991f3396",
   "metadata": {},
   "outputs": [],
   "source": [
    "\n",
    "def logit_on_cos_sim(df):\n",
    "    X = df.loc[df['source'] != df['target']]['score'].to_list() +  df.loc[df['source'] == df['target']]['score'].to_list()\n",
    "    X_array = np.array(X).reshape(-1, 1)\n",
    "    y = [ 1 for i in df.loc[df['source'] != df['target']]['score'].to_list()] + [0 for i in df.loc[df['source'] == df['target']]['score'].to_list()]\n",
    "    clf = LogisticRegression(class_weight={0: 0.2, 1:0.8}).fit(X_array, y)\n",
    "    predicted = clf.predict(X_array)\n",
    "    probs = clf.predict_proba(X_array)\n",
    "    #return clf.score(X_array, y)\n",
    "    df_logit = pd.DataFrame()\n",
    "    df_logit['score'] = X\n",
    "    df_logit['predicted'] = predicted\n",
    "    df_logit['actual'] = y\n",
    "    df_logit['prob_correct'] = [i[0] for i in probs]\n",
    "    df_logit['prob_incorrect'] = [i[1] for i in probs]\n",
    "    df_logit['correctly_classified'] = df_logit['predicted'] == df_logit['actual']\n",
    "    df_logit_sorted = df_logit.sort_values(by='score')\n",
    "    return df_logit_sorted\n",
    "\n",
    "def model_acc(df):\n",
    "    return df.loc[df['predicted'] == df['actual']].shape[0]/df.shape[0]"
   ]
  },
  {
   "cell_type": "code",
   "execution_count": 68,
   "id": "3c3527d0",
   "metadata": {},
   "outputs": [
    {
     "data": {
      "text/plain": [
       "0.8628359592215014"
      ]
     },
     "execution_count": 68,
     "metadata": {},
     "output_type": "execute_result"
    }
   ],
   "source": [
    "df_logit_naive = logit_on_cos_sim(naive_df)\n",
    "model_acc(df_logit_naive)"
   ]
  },
  {
   "cell_type": "code",
   "execution_count": 69,
   "id": "8148403c",
   "metadata": {},
   "outputs": [
    {
     "data": {
      "text/plain": [
       "0.798887859128823"
      ]
     },
     "execution_count": 69,
     "metadata": {},
     "output_type": "execute_result"
    }
   ],
   "source": [
    "df_logit_spacy = logit_on_cos_sim(spacy_df)\n",
    "model_acc(df_logit_spacy)"
   ]
  },
  {
   "cell_type": "code",
   "execution_count": 70,
   "id": "2c770e23",
   "metadata": {},
   "outputs": [
    {
     "data": {
      "text/plain": [
       "0.8359592215013901"
      ]
     },
     "execution_count": 70,
     "metadata": {},
     "output_type": "execute_result"
    }
   ],
   "source": [
    "df_logit_extracted = logit_on_cos_sim(extracted_df)\n",
    "model_acc(df_logit_extracted)"
   ]
  },
  {
   "cell_type": "code",
   "execution_count": 71,
   "id": "25222dbe",
   "metadata": {},
   "outputs": [
    {
     "data": {
      "text/html": [
       "<div>\n",
       "<style scoped>\n",
       "    .dataframe tbody tr th:only-of-type {\n",
       "        vertical-align: middle;\n",
       "    }\n",
       "\n",
       "    .dataframe tbody tr th {\n",
       "        vertical-align: top;\n",
       "    }\n",
       "\n",
       "    .dataframe thead th {\n",
       "        text-align: right;\n",
       "    }\n",
       "</style>\n",
       "<table border=\"1\" class=\"dataframe\">\n",
       "  <thead>\n",
       "    <tr style=\"text-align: right;\">\n",
       "      <th></th>\n",
       "      <th></th>\n",
       "      <th>count_low</th>\n",
       "      <th>min_cos_sim_low</th>\n",
       "      <th>max_cos_sim_low</th>\n",
       "      <th>count_high</th>\n",
       "      <th>min_cos_sim_high</th>\n",
       "      <th>max_cos_sim_high</th>\n",
       "    </tr>\n",
       "    <tr>\n",
       "      <th>predicted</th>\n",
       "      <th>actual</th>\n",
       "      <th></th>\n",
       "      <th></th>\n",
       "      <th></th>\n",
       "      <th></th>\n",
       "      <th></th>\n",
       "      <th></th>\n",
       "    </tr>\n",
       "  </thead>\n",
       "  <tbody>\n",
       "    <tr>\n",
       "      <th rowspan=\"2\" valign=\"top\">0</th>\n",
       "      <th>0</th>\n",
       "      <td>112</td>\n",
       "      <td>0.058988</td>\n",
       "      <td>0.19087</td>\n",
       "      <td>802.0</td>\n",
       "      <td>0.19087</td>\n",
       "      <td>0.601052</td>\n",
       "    </tr>\n",
       "    <tr>\n",
       "      <th>1</th>\n",
       "      <td>69</td>\n",
       "      <td>0.058988</td>\n",
       "      <td>0.19087</td>\n",
       "      <td>62.0</td>\n",
       "      <td>0.19087</td>\n",
       "      <td>0.601052</td>\n",
       "    </tr>\n",
       "    <tr>\n",
       "      <th rowspan=\"2\" valign=\"top\">1</th>\n",
       "      <th>0</th>\n",
       "      <td>17</td>\n",
       "      <td>0.058988</td>\n",
       "      <td>0.19087</td>\n",
       "      <td>NaN</td>\n",
       "      <td>NaN</td>\n",
       "      <td>NaN</td>\n",
       "    </tr>\n",
       "    <tr>\n",
       "      <th>1</th>\n",
       "      <td>18</td>\n",
       "      <td>0.058988</td>\n",
       "      <td>0.19087</td>\n",
       "      <td>NaN</td>\n",
       "      <td>NaN</td>\n",
       "      <td>NaN</td>\n",
       "    </tr>\n",
       "  </tbody>\n",
       "</table>\n",
       "</div>"
      ],
      "text/plain": [
       "                  count_low  min_cos_sim_low  max_cos_sim_low  count_high  \\\n",
       "predicted actual                                                            \n",
       "0         0             112         0.058988          0.19087       802.0   \n",
       "          1              69         0.058988          0.19087        62.0   \n",
       "1         0              17         0.058988          0.19087         NaN   \n",
       "          1              18         0.058988          0.19087         NaN   \n",
       "\n",
       "                  min_cos_sim_high  max_cos_sim_high  \n",
       "predicted actual                                      \n",
       "0         0                0.19087          0.601052  \n",
       "          1                0.19087          0.601052  \n",
       "1         0                    NaN               NaN  \n",
       "          1                    NaN               NaN  "
      ]
     },
     "execution_count": 71,
     "metadata": {},
     "output_type": "execute_result"
    }
   ],
   "source": [
    "def get_quantile_accuracy(df, q=5):\n",
    "    r = math.ceil(df.shape[0]/q)\n",
    "    df_low = df.head(r)\n",
    "    df_high = df.tail(r*(q-1))\n",
    "    output = []\n",
    "    for i in [df_low, df_high]:\n",
    "        this_df = i.groupby(['predicted', 'actual']).count()[['score']].rename(mapper={'score':'count'}, axis=1)\n",
    "        output.append(this_df)\n",
    "        this_df['min_cos_sim'] = i['score'].min()\n",
    "        this_df['max_cos_sim'] = i['score'].max()\n",
    "    return output[0].join(output[1], how='outer', lsuffix='_low', rsuffix='_high')\n",
    "\n",
    "get_quantile_accuracy(df_logit_naive)"
   ]
  },
  {
   "cell_type": "code",
   "execution_count": 72,
   "id": "577872de",
   "metadata": {},
   "outputs": [],
   "source": [
    "quantiles_naive = get_quantile_accuracy(df_logit_naive)\n",
    "quantiles_extracted = get_quantile_accuracy(df_logit_extracted)\n",
    "quantiles_spacy = get_quantile_accuracy(df_logit_spacy)\n",
    "\n",
    "m = {}\n",
    "for i in quantiles_spacy.columns:\n",
    "    m[i] = i + '_spacy'    \n",
    "    \n",
    "quantiles_spacy = quantiles_spacy.rename(mapper=m, axis=1)"
   ]
  },
  {
   "cell_type": "code",
   "execution_count": 73,
   "id": "e5e794ba",
   "metadata": {},
   "outputs": [
    {
     "data": {
      "text/html": [
       "<div>\n",
       "<style scoped>\n",
       "    .dataframe tbody tr th:only-of-type {\n",
       "        vertical-align: middle;\n",
       "    }\n",
       "\n",
       "    .dataframe tbody tr th {\n",
       "        vertical-align: top;\n",
       "    }\n",
       "\n",
       "    .dataframe thead th {\n",
       "        text-align: right;\n",
       "    }\n",
       "</style>\n",
       "<table border=\"1\" class=\"dataframe\">\n",
       "  <thead>\n",
       "    <tr style=\"text-align: right;\">\n",
       "      <th></th>\n",
       "      <th>min_cos_sim_low_spacy</th>\n",
       "      <th>max_cos_sim_low_spacy</th>\n",
       "      <th>min_cos_sim_high_spacy</th>\n",
       "      <th>max_cos_sim_high_spacy</th>\n",
       "    </tr>\n",
       "  </thead>\n",
       "  <tbody>\n",
       "    <tr>\n",
       "      <th>0</th>\n",
       "      <td>0.000000</td>\n",
       "      <td>0.000000</td>\n",
       "      <td>0.315584</td>\n",
       "      <td>0.981266</td>\n",
       "    </tr>\n",
       "    <tr>\n",
       "      <th>1</th>\n",
       "      <td>0.000000</td>\n",
       "      <td>0.000000</td>\n",
       "      <td>0.315584</td>\n",
       "      <td>0.981266</td>\n",
       "    </tr>\n",
       "    <tr>\n",
       "      <th>2</th>\n",
       "      <td>0.076696</td>\n",
       "      <td>0.315584</td>\n",
       "      <td>0.315584</td>\n",
       "      <td>0.981266</td>\n",
       "    </tr>\n",
       "    <tr>\n",
       "      <th>3</th>\n",
       "      <td>0.076696</td>\n",
       "      <td>0.315584</td>\n",
       "      <td>0.315584</td>\n",
       "      <td>0.981266</td>\n",
       "    </tr>\n",
       "  </tbody>\n",
       "</table>\n",
       "</div>"
      ],
      "text/plain": [
       "   min_cos_sim_low_spacy  max_cos_sim_low_spacy  min_cos_sim_high_spacy  \\\n",
       "0               0.000000               0.000000                0.315584   \n",
       "1               0.000000               0.000000                0.315584   \n",
       "2               0.076696               0.315584                0.315584   \n",
       "3               0.076696               0.315584                0.315584   \n",
       "\n",
       "   max_cos_sim_high_spacy  \n",
       "0                0.981266  \n",
       "1                0.981266  \n",
       "2                0.981266  \n",
       "3                0.981266  "
      ]
     },
     "execution_count": 73,
     "metadata": {},
     "output_type": "execute_result"
    }
   ],
   "source": [
    "quantiles_joined = quantiles_naive.join(quantiles_extracted, lsuffix='_naive', rsuffix='_extracted').join(quantiles_spacy).fillna(0).reset_index()\n",
    "\n",
    "for i in ['naive', 'extracted', 'spacy']:\n",
    "    quantiles_joined['sum_'+i] = quantiles_joined[f'count_low_{i}'] + quantiles_joined[f'count_high_{i}']\n",
    "\n",
    "quantiles_joined\n",
    "\n",
    "quantiles_separated = []\n",
    "for x in ['naive', 'extracted', 'spacy']:\n",
    "    quantiles_separated.append(quantiles_joined[['predicted', 'actual'] + [i for i in quantiles_joined.columns if x in i]])\n",
    "quantiles_separated[2][[i for i in quantiles_separated[2].columns if 'cos_sim' in i]]\n"
   ]
  },
  {
   "cell_type": "code",
   "execution_count": 74,
   "id": "e0817709",
   "metadata": {},
   "outputs": [
    {
     "name": "stdout",
     "output_type": "stream",
     "text": [
      "count_low 0.6018518518518519\n",
      "count_high 0.9282407407407407\n",
      "count_low 0.5138888888888888\n",
      "count_high 0.9155092592592593\n",
      "count_low 0.4305555555555556\n",
      "count_high 0.8912037037037037\n"
     ]
    }
   ],
   "source": [
    "for x in quantiles_separated:\n",
    "    #x_selected = x[[i for i in x.columns if 'count' in i]]\n",
    "    correct = x.loc[x['predicted'] == x['actual']].set_index('actual')\n",
    "    accuracies = []\n",
    "    for y in ['count_low', 'count_high']:\n",
    "        c = [i for i in x.columns if y in i]\n",
    "        acc = correct.sum()[c[0]] / x.sum()[c[0]]\n",
    "        print(y, acc)\n",
    "        accuracies.append(acc)"
   ]
  },
  {
   "cell_type": "code",
   "execution_count": 75,
   "id": "aaa7f618",
   "metadata": {},
   "outputs": [
    {
     "data": {
      "text/plain": [
       "270"
      ]
     },
     "execution_count": 75,
     "metadata": {},
     "output_type": "execute_result"
    }
   ],
   "source": [
    "math.ceil(1079/4)"
   ]
  },
  {
   "cell_type": "code",
   "execution_count": 76,
   "id": "64f98add",
   "metadata": {},
   "outputs": [
    {
     "data": {
      "text/html": [
       "<div>\n",
       "<style scoped>\n",
       "    .dataframe tbody tr th:only-of-type {\n",
       "        vertical-align: middle;\n",
       "    }\n",
       "\n",
       "    .dataframe tbody tr th {\n",
       "        vertical-align: top;\n",
       "    }\n",
       "\n",
       "    .dataframe thead th {\n",
       "        text-align: right;\n",
       "    }\n",
       "</style>\n",
       "<table border=\"1\" class=\"dataframe\">\n",
       "  <thead>\n",
       "    <tr style=\"text-align: right;\">\n",
       "      <th></th>\n",
       "      <th>score</th>\n",
       "      <th>predicted</th>\n",
       "      <th>prob_correct</th>\n",
       "      <th>prob_incorrect</th>\n",
       "      <th>correctly_classified</th>\n",
       "    </tr>\n",
       "    <tr>\n",
       "      <th>actual</th>\n",
       "      <th></th>\n",
       "      <th></th>\n",
       "      <th></th>\n",
       "      <th></th>\n",
       "      <th></th>\n",
       "    </tr>\n",
       "  </thead>\n",
       "  <tbody>\n",
       "    <tr>\n",
       "      <th>0</th>\n",
       "      <td>477</td>\n",
       "      <td>477</td>\n",
       "      <td>477</td>\n",
       "      <td>477</td>\n",
       "      <td>477</td>\n",
       "    </tr>\n",
       "    <tr>\n",
       "      <th>1</th>\n",
       "      <td>23</td>\n",
       "      <td>23</td>\n",
       "      <td>23</td>\n",
       "      <td>23</td>\n",
       "      <td>23</td>\n",
       "    </tr>\n",
       "  </tbody>\n",
       "</table>\n",
       "</div>"
      ],
      "text/plain": [
       "        score  predicted  prob_correct  prob_incorrect  correctly_classified\n",
       "actual                                                                      \n",
       "0         477        477           477             477                   477\n",
       "1          23         23            23              23                    23"
      ]
     },
     "execution_count": 76,
     "metadata": {},
     "output_type": "execute_result"
    }
   ],
   "source": [
    "df_logit_naive.tail(500).groupby(['actual']).count()"
   ]
  },
  {
   "cell_type": "code",
   "execution_count": 77,
   "id": "1892cb19",
   "metadata": {},
   "outputs": [],
   "source": [
    "def p_r_plot(df, strategy):\n",
    "    mpl.rcParams['lines.markersize'] = 4 \n",
    "    fig = plt.subplots(figsize=(9, 7))\n",
    "    precision, recall, thresholds = precision_recall_curve(df['actual'],df['prob_correct'], pos_label=0)\n",
    "    df_pr_curve = pd.DataFrame()\n",
    "    df_pr_curve['precision'] = precision\n",
    "    df_pr_curve['recall'] = recall\n",
    "    df_pr_curve['thresholds'] = np.insert(thresholds, 0, 0)\n",
    "    sns.lineplot(x='recall', y='precision', data=df_pr_curve, marker='o', markerfacecolor='black').set(title=f'Precision-Recall Curve ({strategy} Model)', ylabel='Precision', xlabel='Recall')\n",
    "    return df_pr_curve\n"
   ]
  },
  {
   "cell_type": "code",
   "execution_count": 78,
   "id": "1420e4ba",
   "metadata": {},
   "outputs": [
    {
     "data": {
      "image/png": "[encoded data removed]",
      "text/plain": [
       "<Figure size 648x504 with 1 Axes>"
      ]
     },
     "metadata": {
      "needs_background": "light"
     },
     "output_type": "display_data"
    }
   ],
   "source": [
    "naive_curve = p_r_plot(df_logit_naive, \"Naive BOW\")"
   ]
  },
  {
   "cell_type": "code",
   "execution_count": 79,
   "id": "73b5ee7c",
   "metadata": {},
   "outputs": [
    {
     "data": {
      "image/png": "[encoded data removed]",
      "text/plain": [
       "<Figure size 648x504 with 1 Axes>"
      ]
     },
     "metadata": {
      "needs_background": "light"
     },
     "output_type": "display_data"
    }
   ],
   "source": [
    "spacy_curve = p_r_plot(df_logit_spacy, \"Pre-trained NER\")"
   ]
  },
  {
   "cell_type": "code",
   "execution_count": 80,
   "id": "dbc4a526",
   "metadata": {},
   "outputs": [
    {
     "data": {
      "image/png": "[encoded data removed]",
      "text/plain": [
       "<Figure size 648x504 with 1 Axes>"
      ]
     },
     "metadata": {
      "needs_background": "light"
     },
     "output_type": "display_data"
    }
   ],
   "source": [
    "extracted_curve = p_r_plot(df_logit_extracted, \"Rule-Based\")"
   ]
  },
  {
   "cell_type": "code",
   "execution_count": null,
   "id": "be8a74a5",
   "metadata": {},
   "outputs": [],
   "source": []
  }
 ],
 "metadata": {
  "kernelspec": {
   "display_name": "Python 3 (ipykernel)",
   "language": "python",
   "name": "python3"
  },
  "language_info": {
   "codemirror_mode": {
    "name": "ipython",
    "version": 3
   },
   "file_extension": ".py",
   "mimetype": "text/x-python",
   "name": "python",
   "nbconvert_exporter": "python",
   "pygments_lexer": "ipython3",
   "version": "3.9.6"
  }
 },
 "nbformat": 4,
 "nbformat_minor": 5
}
