{
 "cells": [
  {
   "cell_type": "code",
   "execution_count": 28,
   "id": "c398d55d",
   "metadata": {},
   "outputs": [],
   "source": [
    "import math, os\n",
    "import pandas as pd \n",
    "import numpy as np\n",
    "from collections import Counter\n",
    "from nltk.corpus import stopwords\n",
    "from sklearn.feature_extraction import DictVectorizer\n",
    "from sklearn.linear_model import LogisticRegression\n",
    "from sklearn.metrics import precision_recall_curve\n",
    "import matplotlib as mpl\n",
    "import matplotlib.pyplot as plt\n",
    "import seaborn as sns\n",
    "from utilities import text_functions as tf\n",
    "from utilities import scikit_functions as sf"
   ]
  },
  {
   "cell_type": "code",
   "execution_count": 2,
   "id": "2793f73a",
   "metadata": {},
   "outputs": [
    {
     "data": {
      "text/html": [
       "<div>\n",
       "<style scoped>\n",
       "    .dataframe tbody tr th:only-of-type {\n",
       "        vertical-align: middle;\n",
       "    }\n",
       "\n",
       "    .dataframe tbody tr th {\n",
       "        vertical-align: top;\n",
       "    }\n",
       "\n",
       "    .dataframe thead tr th {\n",
       "        text-align: left;\n",
       "    }\n",
       "</style>\n",
       "<table border=\"1\" class=\"dataframe\">\n",
       "  <thead>\n",
       "    <tr>\n",
       "      <th></th>\n",
       "      <th colspan=\"2\" halign=\"left\">review_type</th>\n",
       "    </tr>\n",
       "    <tr>\n",
       "      <th></th>\n",
       "      <th></th>\n",
       "      <th>count</th>\n",
       "    </tr>\n",
       "  </thead>\n",
       "  <tbody>\n",
       "    <tr>\n",
       "      <th>5</th>\n",
       "      <td>single_focus</td>\n",
       "      <td>1093</td>\n",
       "    </tr>\n",
       "    <tr>\n",
       "      <th>2</th>\n",
       "      <td>multi</td>\n",
       "      <td>487</td>\n",
       "    </tr>\n",
       "    <tr>\n",
       "      <th>4</th>\n",
       "      <td>not_review</td>\n",
       "      <td>247</td>\n",
       "    </tr>\n",
       "    <tr>\n",
       "      <th>1</th>\n",
       "      <td>cluster</td>\n",
       "      <td>244</td>\n",
       "    </tr>\n",
       "    <tr>\n",
       "      <th>0</th>\n",
       "      <td>brief</td>\n",
       "      <td>82</td>\n",
       "    </tr>\n",
       "    <tr>\n",
       "      <th>3</th>\n",
       "      <td>no_pdf</td>\n",
       "      <td>2</td>\n",
       "    </tr>\n",
       "  </tbody>\n",
       "</table>\n",
       "</div>"
      ],
      "text/plain": [
       "    review_type      \n",
       "                count\n",
       "5  single_focus  1093\n",
       "2         multi   487\n",
       "4    not_review   247\n",
       "1       cluster   244\n",
       "0         brief    82\n",
       "3        no_pdf     2"
      ]
     },
     "execution_count": 2,
     "metadata": {},
     "output_type": "execute_result"
    }
   ],
   "source": [
    "df_meta = pd.read_csv('meta.csv', index_col=0)\n",
    "type_summary = df_meta.groupby('review_type').agg({'review_type':['count',]}).reset_index(drop=False).sort_values(by=('review_type', 'count'), ascending=False)\n",
    "type_summary"
   ]
  },
  {
   "cell_type": "code",
   "execution_count": 3,
   "id": "4039f575",
   "metadata": {},
   "outputs": [
    {
     "data": {
      "text/html": [
       "<div>\n",
       "<style scoped>\n",
       "    .dataframe tbody tr th:only-of-type {\n",
       "        vertical-align: middle;\n",
       "    }\n",
       "\n",
       "    .dataframe tbody tr th {\n",
       "        vertical-align: top;\n",
       "    }\n",
       "\n",
       "    .dataframe thead tr th {\n",
       "        text-align: left;\n",
       "    }\n",
       "</style>\n",
       "<table border=\"1\" class=\"dataframe\">\n",
       "  <thead>\n",
       "    <tr>\n",
       "      <th></th>\n",
       "      <th colspan=\"2\" halign=\"left\">genre_parsed</th>\n",
       "    </tr>\n",
       "    <tr>\n",
       "      <th></th>\n",
       "      <th></th>\n",
       "      <th>count</th>\n",
       "    </tr>\n",
       "  </thead>\n",
       "  <tbody>\n",
       "    <tr>\n",
       "      <th>2</th>\n",
       "      <td>nonfiction</td>\n",
       "      <td>801</td>\n",
       "    </tr>\n",
       "    <tr>\n",
       "      <th>1</th>\n",
       "      <td>fiction</td>\n",
       "      <td>226</td>\n",
       "    </tr>\n",
       "    <tr>\n",
       "      <th>3</th>\n",
       "      <td>poetry</td>\n",
       "      <td>34</td>\n",
       "    </tr>\n",
       "    <tr>\n",
       "      <th>0</th>\n",
       "      <td>drama</td>\n",
       "      <td>18</td>\n",
       "    </tr>\n",
       "  </tbody>\n",
       "</table>\n",
       "</div>"
      ],
      "text/plain": [
       "  genre_parsed      \n",
       "               count\n",
       "2   nonfiction   801\n",
       "1      fiction   226\n",
       "3       poetry    34\n",
       "0        drama    18"
      ]
     },
     "execution_count": 3,
     "metadata": {},
     "output_type": "execute_result"
    }
   ],
   "source": [
    "df_single = pd.read_csv('single_author_meta.csv', index_col=0)\n",
    "df_single_genre_summary = df_single.groupby('genre_parsed').agg({'genre_parsed':['count',]}).reset_index(drop=False).sort_values(by=('genre_parsed', 'count'), ascending=False)\n",
    "df_single_genre_summary"
   ]
  },
  {
   "cell_type": "code",
   "execution_count": 5,
   "id": "76f7d73e",
   "metadata": {},
   "outputs": [
    {
     "data": {
      "text/plain": [
       "1079"
      ]
     },
     "execution_count": 5,
     "metadata": {},
     "output_type": "execute_result"
    }
   ],
   "source": [
    "reviews_all = []\n",
    "for i in df_single['record_id']:\n",
    "    with open (f'txt/{i}.txt') as f:\n",
    "        this_review = f.read()\n",
    "    f.close()\n",
    "    reviews_all.append(this_review)\n",
    "len(reviews_all)"
   ]
  },
  {
   "cell_type": "code",
   "execution_count": 6,
   "id": "e79e7b63",
   "metadata": {},
   "outputs": [],
   "source": [
    "# dict of tokens, key - pub_id\n",
    "review_store = {}\n",
    "\n",
    "for e, i in enumerate(df_single['record_id']):\n",
    "    p = tf.preprocess_text(reviews_all[e])\n",
    "    review_store[i] = p"
   ]
  },
  {
   "cell_type": "code",
   "execution_count": 7,
   "id": "6b688001",
   "metadata": {},
   "outputs": [],
   "source": [
    "ngram_stores_lower = {}\n",
    "for i in range(0,5):\n",
    "    if i == 0:\n",
    "        ngram_store = {x: Counter([j.lower() for j in y]) for x,y in review_store.items()}\n",
    "        ngram_stores_lower[i] = ngram_store\n",
    "    else:\n",
    "        ngram_store = tf.make_ngram_store(review_store, i, lower=True)\n",
    "        ngram_stores_lower[i] = ngram_store"
   ]
  },
  {
   "cell_type": "code",
   "execution_count": 27,
   "id": "60866b74",
   "metadata": {},
   "outputs": [],
   "source": [
    "base = 'extracted_features/ngrams'\n",
    "\n",
    "if not os.path.exists(base):\n",
    "    os.makedirs(base)\n",
    "    \n",
    "for e in range(0,5):\n",
    "    if not os.path.exists(f'{base}/{str(e)}'):\n",
    "        os.makedirs(f'{base}/{str(e)}')\n",
    "    for i in ngram_stores_lower[e].keys():\n",
    "        this_csv= f'{base}/{str(e)}/{str(i)}.csv'\n",
    "        df = pd.DataFrame().from_records([[k,v] for k,v in ngram_stores_lower[e][i].items()], columns=['ngram', 'count'])\n",
    "        df.to_csv(this_csv)\n",
    "            "
   ]
  },
  {
   "cell_type": "code",
   "execution_count": 36,
   "id": "1b225f74",
   "metadata": {},
   "outputs": [],
   "source": []
  }
 ],
 "metadata": {
  "kernelspec": {
   "display_name": "Python 3 (ipykernel)",
   "language": "python",
   "name": "python3"
  },
  "language_info": {
   "codemirror_mode": {
    "name": "ipython",
    "version": 3
   },
   "file_extension": ".py",
   "mimetype": "text/x-python",
   "name": "python",
   "nbconvert_exporter": "python",
   "pygments_lexer": "ipython3",
   "version": "3.9.6"
  }
 },
 "nbformat": 4,
 "nbformat_minor": 5
}
